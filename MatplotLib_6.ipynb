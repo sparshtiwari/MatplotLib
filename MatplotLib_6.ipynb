{
  "nbformat": 4,
  "nbformat_minor": 0,
  "metadata": {
    "colab": {
      "name": "MatplotLib_6.ipynb",
      "provenance": [],
      "authorship_tag": "ABX9TyNk0yQMiKthipUQwdRqDthv"
    },
    "kernelspec": {
      "name": "python3",
      "display_name": "Python 3"
    }
  },
  "cells": [
    {
      "cell_type": "code",
      "metadata": {
        "id": "R9s2c5KZn0sb",
        "colab_type": "code",
        "colab": {}
      },
      "source": [
        "# Plotting data on a file from internet.\n",
        "# Using Tesla's stock data as our dataset here."
      ],
      "execution_count": null,
      "outputs": []
    },
    {
      "cell_type": "code",
      "metadata": {
        "id": "cGFSIJcSvSDr",
        "colab_type": "code",
        "colab": {}
      },
      "source": [
        "import matplotlib.pyplot as plt\n",
        "import numpy as np\n",
        "import urllib.request\n",
        "import matplotlib.dates as mdates"
      ],
      "execution_count": 14,
      "outputs": []
    },
    {
      "cell_type": "code",
      "metadata": {
        "id": "qFq8QDf5vauL",
        "colab_type": "code",
        "colab": {}
      },
      "source": [
        "def graph_data(stock_url):\n",
        "\n",
        "    stock_price_url = stock_url\n",
        "\n",
        "    source_code = urllib.request.urlopen(stock_price_url).read().decode() # after reading the data you need to decode it.\n",
        "\n",
        "    stock_data = []\n",
        "    split_source = source_code.split('\\n')\n",
        "\n",
        "    for line in split_source[1:]:\n",
        "        split_line = line.split(',')\n",
        "        if len(split_line) == 7:\n",
        "            if 'values' not in line:\n",
        "                stock_data.append(line)\n",
        "    # what we did above is removed the unnecessary redundant data and just inluded the stock data which is needed to be plot.\n",
        "\n",
        "    date, closep, highp, lowp, openp, adj_closep, volume = np.loadtxt(stock_data,\n",
        "                                                          delimiter=',',\n",
        "                                                          unpack=True,\n",
        "                                                          # %Y = full year. 2015\n",
        "                                                          # %y = partial year 15\n",
        "                                                          # %m = number month\n",
        "                                                          # %d = number day\n",
        "                                                          # %H = hours\n",
        "                                                          # %M = minutes\n",
        "                                                          # %S = seconds\n",
        "                                                          # 12-06-2014\n",
        "                                                          # %m-%d-%Y\n",
        "                                                          converters={0: mdates.bytespdate2num('%Y-%m-%d')})\n",
        "    \n",
        "    plt.plot_date(date, closep,'-', label='Price')\n",
        " \n",
        "    plt.xlabel('Date')\n",
        "    plt.ylabel('Price')\n",
        "    plt.title('Tesla Stock Graph')\n",
        "    plt.legend()\n",
        "    plt.show()"
      ],
      "execution_count": 19,
      "outputs": []
    },
    {
      "cell_type": "code",
      "metadata": {
        "id": "AF_jPazIvyMq",
        "colab_type": "code",
        "colab": {
          "base_uri": "https://localhost:8080/",
          "height": 382
        },
        "outputId": "a3b60af2-c863-4ce1-a2ba-648111633660"
      },
      "source": [
        "graph_data('http://m.uploadedit.com/busd/1598310550467.txt')"
      ],
      "execution_count": 20,
      "outputs": [
        {
          "output_type": "stream",
          "text": [
            "/usr/local/lib/python3.6/dist-packages/ipykernel_launcher.py:29: MatplotlibDeprecationWarning: \n",
            "The bytespdate2num class was deprecated in Matplotlib 3.1 and will be removed in 3.3. Use time.strptime or dateutil.parser.parse or datestr2num instead.\n",
            "/usr/local/lib/python3.6/dist-packages/ipykernel_launcher.py:29: MatplotlibDeprecationWarning: \n",
            "The strpdate2num class was deprecated in Matplotlib 3.1 and will be removed in 3.3. Use time.strptime or dateutil.parser.parse or datestr2num instead.\n"
          ],
          "name": "stderr"
        },
        {
          "output_type": "display_data",
          "data": {
            "image/png": "[encoded data removed]",
            "text/plain": [
              "<Figure size 432x288 with 1 Axes>"
            ]
          },
          "metadata": {
            "tags": [],
            "needs_background": "light"
          }
        }
      ]
    },
    {
      "cell_type": "code",
      "metadata": {
        "id": "qyzfQtkQxlZN",
        "colab_type": "code",
        "colab": {}
      },
      "source": [
        ""
      ],
      "execution_count": null,
      "outputs": []
    }
  ]
}