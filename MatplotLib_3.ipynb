{
  "nbformat": 4,
  "nbformat_minor": 0,
  "metadata": {
    "colab": {
      "name": "MatplotLib_3.ipynb",
      "provenance": [],
      "authorship_tag": "ABX9TyNMWJ4lZP/I/UBEs+3y6915"
    },
    "kernelspec": {
      "name": "python3",
      "display_name": "Python 3"
    }
  },
  "cells": [
    {
      "cell_type": "code",
      "metadata": {
        "id": "fdHR4QPcfahD",
        "colab_type": "code",
        "colab": {}
      },
      "source": [
        "# Scatter and stack plots."
      ],
      "execution_count": 1,
      "outputs": []
    },
    {
      "cell_type": "code",
      "metadata": {
        "id": "E4MNc3cKfp1e",
        "colab_type": "code",
        "colab": {}
      },
      "source": [
        "import matplotlib.pyplot as plt\n",
        "import random"
      ],
      "execution_count": 3,
      "outputs": []
    },
    {
      "cell_type": "code",
      "metadata": {
        "id": "ZikeEMDxfzR1",
        "colab_type": "code",
        "colab": {}
      },
      "source": [
        "#Scatter plots :-"
      ],
      "execution_count": 4,
      "outputs": []
    },
    {
      "cell_type": "code",
      "metadata": {
        "id": "jDtiY_WLfwrZ",
        "colab_type": "code",
        "colab": {
          "base_uri": "https://localhost:8080/",
          "height": 295
        },
        "outputId": "e274df33-c441-4580-cbf3-ef9d23c9730c"
      },
      "source": [
        "x = random.sample(range(1,10),9)\n",
        "y = random.sample(range(1,10),9)\n",
        "\n",
        "plt.scatter(x,y, label='Values', color='k', s=25, marker=\"o\") #k is for black as b is for blue.\n",
        "# you can try different markers also like x * and etc.\n",
        "plt.xlabel('x')\n",
        "plt.ylabel('y')\n",
        "plt.title('Scatter Plot')\n",
        "plt.legend()\n",
        "plt.show()"
      ],
      "execution_count": 5,
      "outputs": [
        {
          "output_type": "display_data",
          "data": {
            "image/png": "[encoded data removed]",
            "text/plain": [
              "<Figure size 432x288 with 1 Axes>"
            ]
          },
          "metadata": {
            "tags": [],
            "needs_background": "light"
          }
        }
      ]
    },
    {
      "cell_type": "code",
      "metadata": {
        "id": "Q9TYUND7gCtH",
        "colab_type": "code",
        "colab": {
          "base_uri": "https://localhost:8080/",
          "height": 34
        },
        "outputId": "cf4fb6dc-8436-4679-ea82-2527058b349d"
      },
      "source": [
        "x"
      ],
      "execution_count": 6,
      "outputs": [
        {
          "output_type": "execute_result",
          "data": {
            "text/plain": [
              "[2, 3, 4, 1, 7, 9, 5, 6, 8]"
            ]
          },
          "metadata": {
            "tags": []
          },
          "execution_count": 6
        }
      ]
    },
    {
      "cell_type": "code",
      "metadata": {
        "id": "OoFiZQaRgD8_",
        "colab_type": "code",
        "colab": {
          "base_uri": "https://localhost:8080/",
          "height": 34
        },
        "outputId": "d484383d-8673-41ff-c479-62765053abbc"
      },
      "source": [
        "y"
      ],
      "execution_count": 7,
      "outputs": [
        {
          "output_type": "execute_result",
          "data": {
            "text/plain": [
              "[3, 1, 7, 8, 6, 4, 5, 9, 2]"
            ]
          },
          "metadata": {
            "tags": []
          },
          "execution_count": 7
        }
      ]
    },
    {
      "cell_type": "code",
      "metadata": {
        "id": "ZL4yRnfkgEMe",
        "colab_type": "code",
        "colab": {}
      },
      "source": [
        "# Stack plots :-\n",
        "# The idea of stack plots is to show \"parts to the whole\" over time. \n",
        "# A stack plot is basically like a pie-chart, only over time."
      ],
      "execution_count": 8,
      "outputs": []
    },
    {
      "cell_type": "code",
      "metadata": {
        "id": "w2ffXjVQgWlw",
        "colab_type": "code",
        "colab": {}
      },
      "source": [
        "# Lets assume a sceanrio of a child in lockdown and we will see how he is spending his time over a period of 1 week.\n",
        "\n",
        "days = [i+1 for i in range(7)]\n",
        "\n",
        "sleeping  =   [7,8,6,6,7,9,11]\n",
        "eating    =   [2,3,4,3,2,4,4]\n",
        "studying  =   [7,8,7,2,2,5,6]\n",
        "playing   =   [8,5,7,8,13,6,3]"
      ],
      "execution_count": 9,
      "outputs": []
    },
    {
      "cell_type": "code",
      "metadata": {
        "id": "QnKZE2clhhbp",
        "colab_type": "code",
        "colab": {}
      },
      "source": [
        "# \"x\" axis will consist of the days variable, which is 1 - 7. \n",
        "# Then, our constituents for the days are held in their respective activities. "
      ],
      "execution_count": 10,
      "outputs": []
    },
    {
      "cell_type": "code",
      "metadata": {
        "id": "CKt_89OPhtGV",
        "colab_type": "code",
        "colab": {
          "base_uri": "https://localhost:8080/",
          "height": 295
        },
        "outputId": "59288600-d4b0-4e81-808f-ca36baf160c4"
      },
      "source": [
        "plt.stackplot(days, sleeping,eating,studying,playing, colors=['m','b','r','k'])\n",
        "\n",
        "plt.xlabel('x')\n",
        "plt.ylabel('y')\n",
        "plt.title('Stack Plot')\n",
        "plt.show()"
      ],
      "execution_count": 16,
      "outputs": [
        {
          "output_type": "display_data",
          "data": {
            "image/png": "[encoded data removed]",
            "text/plain": [
              "<Figure size 432x288 with 1 Axes>"
            ]
          },
          "metadata": {
            "tags": [],
            "needs_background": "light"
          }
        }
      ]
    },
    {
      "cell_type": "code",
      "metadata": {
        "id": "D3ksgqNUhvXE",
        "colab_type": "code",
        "colab": {}
      },
      "source": [
        "# here arises the problem with stack plots. there is no legend for them. we can't tell which portion represents which without looking back at our code.\n",
        "# so what could we do ?\n",
        "# this should stop a normal user but not an engineer who can find workaround for literally everything :P ."
      ],
      "execution_count": 17,
      "outputs": []
    },
    {
      "cell_type": "code",
      "metadata": {
        "id": "ouYdO5Y8iPc7",
        "colab_type": "code",
        "colab": {
          "base_uri": "https://localhost:8080/",
          "height": 295
        },
        "outputId": "f59a6b83-606f-43f4-a6b5-826ed3e9c5bb"
      },
      "source": [
        "plt.plot([],[],color='m', label='Sleeping', linewidth=5)\n",
        "plt.plot([],[],color='c', label='Eating', linewidth=5)\n",
        "plt.plot([],[],color='r', label='Studying', linewidth=5)\n",
        "plt.plot([],[],color='k', label='Playing', linewidth=5)\n",
        "\n",
        "plt.stackplot(days, sleeping,eating,studying,playing, colors=['m','b','r','k'])\n",
        "\n",
        "plt.xlabel('x')\n",
        "plt.ylabel('y')\n",
        "plt.title('Stack Plot')\n",
        "plt.legend()\n",
        "plt.show()"
      ],
      "execution_count": 18,
      "outputs": [
        {
          "output_type": "display_data",
          "data": {
            "image/png": "[encoded data removed]",
            "text/plain": [
              "<Figure size 432x288 with 1 Axes>"
            ]
          },
          "metadata": {
            "tags": [],
            "needs_background": "light"
          }
        }
      ]
    },
    {
      "cell_type": "code",
      "metadata": {
        "id": "f_-lFX5RiTeT",
        "colab_type": "code",
        "colab": {}
      },
      "source": [
        "# now that looks better.\n",
        "# All we did here was plot some empty lines, giving them the same colors, and the correct labels in accordance with our stack plot. We also gave them a linewidth of 5, to make the lines a bit thicker in the legend.\n",
        "# Lets move to the next one."
      ],
      "execution_count": 19,
      "outputs": []
    },
    {
      "cell_type": "code",
      "metadata": {
        "id": "eRtenYU4itPn",
        "colab_type": "code",
        "colab": {}
      },
      "source": [
        ""
      ],
      "execution_count": null,
      "outputs": []
    }
  ]
}