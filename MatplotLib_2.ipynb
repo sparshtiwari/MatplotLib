{
  "nbformat": 4,
  "nbformat_minor": 0,
  "metadata": {
    "colab": {
      "name": "MatplotLib_2.ipynb",
      "provenance": [],
      "authorship_tag": "ABX9TyNrQepToQ7aTo0bBbwyJ47e"
    },
    "kernelspec": {
      "name": "python3",
      "display_name": "Python 3"
    }
  },
  "cells": [
    {
      "cell_type": "code",
      "metadata": {
        "id": "1RPIahlobJad",
        "colab_type": "code",
        "colab": {}
      },
      "source": [
        "#Histograms & Pie - Charts"
      ],
      "execution_count": 1,
      "outputs": []
    },
    {
      "cell_type": "code",
      "metadata": {
        "id": "SQ-ef5GFbNKn",
        "colab_type": "code",
        "colab": {}
      },
      "source": [
        "import matplotlib.pyplot as plt\n",
        "import random"
      ],
      "execution_count": 3,
      "outputs": []
    },
    {
      "cell_type": "code",
      "metadata": {
        "id": "Zy_LpyBcbXhf",
        "colab_type": "code",
        "colab": {}
      },
      "source": [
        "x = random.sample(range(1,10),5)\n",
        "y = random.sample(range(1,10),5)"
      ],
      "execution_count": 4,
      "outputs": []
    },
    {
      "cell_type": "code",
      "metadata": {
        "id": "Ku7wRwkLbUFB",
        "colab_type": "code",
        "colab": {
          "base_uri": "https://localhost:8080/",
          "height": 282
        },
        "outputId": "6f06557d-423b-4ef8-a556-5c2bf758ae85"
      },
      "source": [
        "plt.bar(x,y, label=\"Example one\") # since i am using a jupyter notebook it is showing the output without plt.show() because the cell only contains the plt.bar part, if there was another line of code this would not have happened. so kindly use plt.show() only as a good practice."
      ],
      "execution_count": 5,
      "outputs": [
        {
          "output_type": "execute_result",
          "data": {
            "text/plain": [
              "<BarContainer object of 5 artists>"
            ]
          },
          "metadata": {
            "tags": []
          },
          "execution_count": 5
        },
        {
          "output_type": "display_data",
          "data": {
            "image/png": "[encoded data removed]",
            "text/plain": [
              "<Figure size 432x288 with 1 Axes>"
            ]
          },
          "metadata": {
            "tags": [],
            "needs_background": "light"
          }
        }
      ]
    },
    {
      "cell_type": "code",
      "metadata": {
        "id": "5lh6dZYEcD21",
        "colab_type": "code",
        "colab": {}
      },
      "source": [
        "#here are the x and y values respectively.\n",
        "#as we didn't use legend inspite of defining a label it is not shown in the graph."
      ],
      "execution_count": null,
      "outputs": []
    },
    {
      "cell_type": "code",
      "metadata": {
        "id": "F760sdBObnQ4",
        "colab_type": "code",
        "colab": {
          "base_uri": "https://localhost:8080/",
          "height": 34
        },
        "outputId": "08eb224f-4ddb-41eb-d19f-60c3d2cd6a5f"
      },
      "source": [
        "x"
      ],
      "execution_count": 6,
      "outputs": [
        {
          "output_type": "execute_result",
          "data": {
            "text/plain": [
              "[2, 5, 8, 3, 1]"
            ]
          },
          "metadata": {
            "tags": []
          },
          "execution_count": 6
        }
      ]
    },
    {
      "cell_type": "code",
      "metadata": {
        "id": "a28gqClTb9CO",
        "colab_type": "code",
        "colab": {
          "base_uri": "https://localhost:8080/",
          "height": 34
        },
        "outputId": "a7b93421-14a0-469a-e9cd-f4bc6ca4b98d"
      },
      "source": [
        "y"
      ],
      "execution_count": 7,
      "outputs": [
        {
          "output_type": "execute_result",
          "data": {
            "text/plain": [
              "[2, 5, 7, 8, 9]"
            ]
          },
          "metadata": {
            "tags": []
          },
          "execution_count": 7
        }
      ]
    },
    {
      "cell_type": "code",
      "metadata": {
        "id": "rUq6s8o0cAUX",
        "colab_type": "code",
        "colab": {
          "base_uri": "https://localhost:8080/",
          "height": 310
        },
        "outputId": "59223043-b98a-4963-8bce-d114a1dd91da"
      },
      "source": [
        "x2 = random.sample(range(1,10),5)\n",
        "y2 = random.sample(range(1,10),5)\n",
        "\n",
        "plt.bar(x,y, label=\"Example one\") \n",
        "plt.bar(x2,y2, label=\"Example two\", color='g') # as without using color both graphs are indistinguishable on visualization. so d\n",
        "plt.legend()\n",
        "plt.xlabel('bar number')\n",
        "plt.ylabel('bar height')\n",
        "\n",
        "plt.title('Overlapping Graph)\n",
        "\n",
        "plt.show()"
      ],
      "execution_count": 8,
      "outputs": [
        {
          "output_type": "display_data",
          "data": {
            "image/png": "[encoded data removed]",
            "text/plain": [
              "<Figure size 432x288 with 1 Axes>"
            ]
          },
          "metadata": {
            "tags": [],
            "needs_background": "light"
          }
        }
      ]
    },
    {
      "cell_type": "code",
      "metadata": {
        "id": "dbLcSPWPc2VB",
        "colab_type": "code",
        "colab": {}
      },
      "source": [
        "# some values are overlapping as these are random it was ought to happen.\n",
        "# but as a beginner this isn't neat lets try inputing values ourselves so that we can get a clean graph."
      ],
      "execution_count": null,
      "outputs": []
    },
    {
      "cell_type": "code",
      "metadata": {
        "id": "q_HdVT6_c83e",
        "colab_type": "code",
        "colab": {
          "base_uri": "https://localhost:8080/",
          "height": 34
        },
        "outputId": "1e9e83b9-e829-4ce6-f7d1-132c0244cb03"
      },
      "source": [
        "x2 # current values  "
      ],
      "execution_count": 9,
      "outputs": [
        {
          "output_type": "execute_result",
          "data": {
            "text/plain": [
              "[4, 1, 3, 5, 8]"
            ]
          },
          "metadata": {
            "tags": []
          },
          "execution_count": 9
        }
      ]
    },
    {
      "cell_type": "code",
      "metadata": {
        "id": "zzeqPilHc9Z-",
        "colab_type": "code",
        "colab": {
          "base_uri": "https://localhost:8080/",
          "height": 34
        },
        "outputId": "583da82f-8cf3-4649-d2de-eb6942cf7904"
      },
      "source": [
        "y2"
      ],
      "execution_count": 10,
      "outputs": [
        {
          "output_type": "execute_result",
          "data": {
            "text/plain": [
              "[8, 3, 1, 4, 5]"
            ]
          },
          "metadata": {
            "tags": []
          },
          "execution_count": 10
        }
      ]
    },
    {
      "cell_type": "code",
      "metadata": {
        "id": "v00wEC8Oc-PN",
        "colab_type": "code",
        "colab": {
          "base_uri": "https://localhost:8080/",
          "height": 295
        },
        "outputId": "7d5d9391-8f81-4c97-931f-f09bb34803e0"
      },
      "source": [
        "plt.bar([1,3,5,7,9],[5,2,7,8,2], label=\"Example one\")\n",
        "plt.bar([2,4,6,8,10],[8,6,2,5,6], label=\"Example two\", color='g')\n",
        "plt.legend()\n",
        "plt.xlabel('bar number')\n",
        "plt.ylabel('bar height')\n",
        "\n",
        "plt.title('Neat Graph')\n",
        "\n",
        "plt.show()"
      ],
      "execution_count": 11,
      "outputs": [
        {
          "output_type": "display_data",
          "data": {
            "image/png": "[encoded data removed]",
            "text/plain": [
              "<Figure size 432x288 with 1 Axes>"
            ]
          },
          "metadata": {
            "tags": [],
            "needs_background": "light"
          }
        }
      ]
    },
    {
      "cell_type": "code",
      "metadata": {
        "id": "KRjBTzdzdolH",
        "colab_type": "code",
        "colab": {}
      },
      "source": [
        "# That's better."
      ],
      "execution_count": 12,
      "outputs": []
    },
    {
      "cell_type": "code",
      "metadata": {
        "id": "nZNDcdNMds8r",
        "colab_type": "code",
        "colab": {}
      },
      "source": [
        "# this was it for bar charts lets cover histogram now.\n",
        "# although both might seem similar in looks but hey are not.\n",
        "# Histograms are used to show distributions of variables while bar charts are used to compare variables. Histograms plot quantitative data with ranges of the data grouped into bins or intervals(groups such as age groups, scores in a class test etc.) while bar charts plot categorical data."
      ],
      "execution_count": 13,
      "outputs": []
    },
    {
      "cell_type": "code",
      "metadata": {
        "id": "V02uXB4zeB4E",
        "colab_type": "code",
        "colab": {
          "base_uri": "https://localhost:8080/",
          "height": 312
        },
        "outputId": "ddacd6be-7e93-446b-d465-732884c79a2a"
      },
      "source": [
        "#Lets try with age of various employees working at a particular company\n",
        "import matplotlib.pyplot as plt\n",
        "\n",
        "employee_ages = random.sample(range(20,60),20)\n",
        "\n",
        "bins = [0,10,20,30,40,50,60,70,80,90,100]\n",
        "\n",
        "plt.hist(employee_ages, bins, histtype='bar', rwidth=0.8)\n",
        "\n",
        "plt.xlabel('x')\n",
        "plt.ylabel('y')\n",
        "plt.title('Employee Age Graph')\n",
        "plt.legend()\n",
        "plt.show()"
      ],
      "execution_count": 14,
      "outputs": [
        {
          "output_type": "stream",
          "text": [
            "No handles with labels found to put in legend.\n"
          ],
          "name": "stderr"
        },
        {
          "output_type": "display_data",
          "data": {
            "image/png": "[encoded data removed]",
            "text/plain": [
              "<Figure size 432x288 with 1 Axes>"
            ]
          },
          "metadata": {
            "tags": [],
            "needs_background": "light"
          }
        }
      ]
    },
    {
      "cell_type": "code",
      "metadata": {
        "id": "nTrlmJyBe2ym",
        "colab_type": "code",
        "colab": {}
      },
      "source": [
        "# we can easily see even without printing that random data that most employees belong tp the age group of 40 - 50 and then 50 - 60."
      ],
      "execution_count": 15,
      "outputs": []
    },
    {
      "cell_type": "code",
      "metadata": {
        "id": "NqmfTdQYfDaC",
        "colab_type": "code",
        "colab": {}
      },
      "source": [
        "#For plt.hist, you first put in all of the values, then you specify into what \"bins\" or containers you will place the data into. In our case, we are plotting a bunch of ages, and we want to display them in terms of increments of 10 years. We give the bars a width of 0.8, but you can choose something else if you want to make the bars thicker, or thinner."
      ],
      "execution_count": 16,
      "outputs": []
    },
    {
      "cell_type": "code",
      "metadata": {
        "id": "dQkSegUPfIdJ",
        "colab_type": "code",
        "colab": {}
      },
      "source": [
        "#This was it. Experiment yourself and move forward to the next one."
      ],
      "execution_count": 17,
      "outputs": []
    },
    {
      "cell_type": "code",
      "metadata": {
        "id": "T8KktxEKfMp5",
        "colab_type": "code",
        "colab": {}
      },
      "source": [
        ""
      ],
      "execution_count": null,
      "outputs": []
    }
  ]
}