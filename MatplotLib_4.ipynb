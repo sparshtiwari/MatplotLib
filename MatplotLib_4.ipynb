{
  "nbformat": 4,
  "nbformat_minor": 0,
  "metadata": {
    "colab": {
      "name": "MatplotLib_4.ipynb",
      "provenance": [],
      "collapsed_sections": [],
      "authorship_tag": "ABX9TyPcCd7N/MTStDUig55POHiS"
    },
    "kernelspec": {
      "name": "python3",
      "display_name": "Python 3"
    }
  },
  "cells": [
    {
      "cell_type": "code",
      "metadata": {
        "id": "_NBDYWTli5HG",
        "colab_type": "code",
        "colab": {}
      },
      "source": [
        "# Pie - Charts"
      ],
      "execution_count": 1,
      "outputs": []
    },
    {
      "cell_type": "code",
      "metadata": {
        "id": "Nm3VsuqUi9ep",
        "colab_type": "code",
        "colab": {}
      },
      "source": [
        "import matplotlib.pyplot as plt\n",
        "import random"
      ],
      "execution_count": 2,
      "outputs": []
    },
    {
      "cell_type": "code",
      "metadata": {
        "id": "z3YUJGfbjBOK",
        "colab_type": "code",
        "colab": {}
      },
      "source": [
        "# Pie charts are a lot like the stack plots, the only difference is  they show a certain instant rather than the continuos time.\n",
        "# Typically, a Pie Chart is used to show parts to the whole, and often a % share. \n",
        "# Luckily for us, Matplotlib handles the sizes of the slices and everything, we just feed it the numbers."
      ],
      "execution_count": 3,
      "outputs": []
    },
    {
      "cell_type": "code",
      "metadata": {
        "id": "zo8b01kqjbmh",
        "colab_type": "code",
        "colab": {
          "base_uri": "https://localhost:8080/",
          "height": 264
        },
        "outputId": "1abd5675-28cc-47ca-f51f-3aea0825cd0f"
      },
      "source": [
        "# taking our previous example of child here. \n",
        "\n",
        "# defining the arguments which are plt.pie will take.\n",
        "\n",
        "slices = [8,6,3,7]\n",
        "activities = ['sleeping','eating','studying','playing']\n",
        "cols = ['c','m','r','b']\n",
        "\n",
        "plt.pie(slices,\n",
        "        labels=activities,\n",
        "        colors=cols,\n",
        "        startangle=90, # This lets you start the line where you want. In our case, we chose a 90 degree angle for the pie chart, which means the first division will be a verticle line. \n",
        "        shadow= True,\n",
        "        explode=(0,0.1,0,0), # to show the point of interest explicitly.\n",
        "        autopct='%1.1f%%') # this shows the % directly on the graph without giving us the hassle of the calculations.\n",
        "\n",
        "plt.title('Pie - Chart of a student')\n",
        "plt.show()"
      ],
      "execution_count": 4,
      "outputs": [
        {
          "output_type": "display_data",
          "data": {
            "image/png": "[encoded data removed]",
            "text/plain": [
              "<Figure size 432x288 with 1 Axes>"
            ]
          },
          "metadata": {
            "tags": []
          }
        }
      ]
    },
    {
      "cell_type": "code",
      "metadata": {
        "id": "lZaqUD2fj9co",
        "colab_type": "code",
        "colab": {}
      },
      "source": [
        "# Lets move forward to the next one."
      ],
      "execution_count": null,
      "outputs": []
    }
  ]
}